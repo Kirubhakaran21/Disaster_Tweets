{
 "cells": [
  {
   "cell_type": "code",
   "execution_count": 1,
   "id": "df0db482",
   "metadata": {
    "_cell_guid": "b1076dfc-b9ad-4769-8c92-a6c4dae69d19",
    "_uuid": "8f2839f25d086af736a60e9eeb907d3b93b6e0e5",
    "execution": {
     "iopub.execute_input": "2022-04-29T18:50:12.423883Z",
     "iopub.status.busy": "2022-04-29T18:50:12.423534Z",
     "iopub.status.idle": "2022-04-29T18:50:12.438031Z",
     "shell.execute_reply": "2022-04-29T18:50:12.436782Z"
    },
    "papermill": {
     "duration": 0.053051,
     "end_time": "2022-04-29T18:50:12.440401",
     "exception": false,
     "start_time": "2022-04-29T18:50:12.387350",
     "status": "completed"
    },
    "tags": []
   },
   "outputs": [
    {
     "name": "stdout",
     "output_type": "stream",
     "text": [
      "/kaggle/input/nlp-getting-started/sample_submission.csv\n",
      "/kaggle/input/nlp-getting-started/train.csv\n",
      "/kaggle/input/nlp-getting-started/test.csv\n"
     ]
    }
   ],
   "source": [
    "# This Python 3 environment comes with many helpful analytics libraries installed\n",
    "# It is defined by the kaggle/python Docker image: https://github.com/kaggle/docker-python\n",
    "# For example, here's several helpful packages to load\n",
    "\n",
    "import numpy as np # linear algebra\n",
    "import pandas as pd # data processing, CSV file I/O (e.g. pd.read_csv)\n",
    "\n",
    "# Input data files are available in the read-only \"../input/\" directory\n",
    "# For example, running this (by clicking run or pressing Shift+Enter) will list all files under the input directory\n",
    "\n",
    "import os\n",
    "for dirname, _, filenames in os.walk('/kaggle/input'):\n",
    "    for filename in filenames:\n",
    "        print(os.path.join(dirname, filename))\n",
    "\n",
    "# You can write up to 20GB to the current directory (/kaggle/working/) that gets preserved as output when you create a version using \"Save & Run All\" \n",
    "# You can also write temporary files to /kaggle/temp/, but they won't be saved outside of the current session"
   ]
  },
  {
   "cell_type": "code",
   "execution_count": 2,
   "id": "9be784eb",
   "metadata": {
    "execution": {
     "iopub.execute_input": "2022-04-29T18:50:12.511038Z",
     "iopub.status.busy": "2022-04-29T18:50:12.510761Z",
     "iopub.status.idle": "2022-04-29T18:50:12.591384Z",
     "shell.execute_reply": "2022-04-29T18:50:12.590326Z"
    },
    "papermill": {
     "duration": 0.115727,
     "end_time": "2022-04-29T18:50:12.593817",
     "exception": false,
     "start_time": "2022-04-29T18:50:12.478090",
     "status": "completed"
    },
    "tags": []
   },
   "outputs": [],
   "source": [
    "df=pd.read_csv('/kaggle/input/nlp-getting-started/train.csv')\n",
    "df1=pd.read_csv('/kaggle/input/nlp-getting-started/test.csv')"
   ]
  },
  {
   "cell_type": "code",
   "execution_count": 3,
   "id": "2c1b71a7",
   "metadata": {
    "execution": {
     "iopub.execute_input": "2022-04-29T18:50:12.661386Z",
     "iopub.status.busy": "2022-04-29T18:50:12.660472Z",
     "iopub.status.idle": "2022-04-29T18:50:12.665208Z",
     "shell.execute_reply": "2022-04-29T18:50:12.664147Z"
    },
    "papermill": {
     "duration": 0.041933,
     "end_time": "2022-04-29T18:50:12.667631",
     "exception": false,
     "start_time": "2022-04-29T18:50:12.625698",
     "status": "completed"
    },
    "tags": []
   },
   "outputs": [],
   "source": [
    "import pandas as pd\n",
    "import warnings\n",
    "warnings.filterwarnings(\"ignore\")"
   ]
  },
  {
   "cell_type": "code",
   "execution_count": 4,
   "id": "13d00a50",
   "metadata": {
    "execution": {
     "iopub.execute_input": "2022-04-29T18:50:12.735313Z",
     "iopub.status.busy": "2022-04-29T18:50:12.735016Z",
     "iopub.status.idle": "2022-04-29T18:50:12.758467Z",
     "shell.execute_reply": "2022-04-29T18:50:12.757784Z"
    },
    "papermill": {
     "duration": 0.060407,
     "end_time": "2022-04-29T18:50:12.760950",
     "exception": false,
     "start_time": "2022-04-29T18:50:12.700543",
     "status": "completed"
    },
    "tags": []
   },
   "outputs": [
    {
     "data": {
      "text/html": [
       "<div>\n",
       "<style scoped>\n",
       "    .dataframe tbody tr th:only-of-type {\n",
       "        vertical-align: middle;\n",
       "    }\n",
       "\n",
       "    .dataframe tbody tr th {\n",
       "        vertical-align: top;\n",
       "    }\n",
       "\n",
       "    .dataframe thead th {\n",
       "        text-align: right;\n",
       "    }\n",
       "</style>\n",
       "<table border=\"1\" class=\"dataframe\">\n",
       "  <thead>\n",
       "    <tr style=\"text-align: right;\">\n",
       "      <th></th>\n",
       "      <th>id</th>\n",
       "      <th>keyword</th>\n",
       "      <th>location</th>\n",
       "      <th>text</th>\n",
       "      <th>target</th>\n",
       "    </tr>\n",
       "  </thead>\n",
       "  <tbody>\n",
       "    <tr>\n",
       "      <th>0</th>\n",
       "      <td>1</td>\n",
       "      <td>NaN</td>\n",
       "      <td>NaN</td>\n",
       "      <td>Our Deeds are the Reason of this #earthquake M...</td>\n",
       "      <td>1</td>\n",
       "    </tr>\n",
       "    <tr>\n",
       "      <th>1</th>\n",
       "      <td>4</td>\n",
       "      <td>NaN</td>\n",
       "      <td>NaN</td>\n",
       "      <td>Forest fire near La Ronge Sask. Canada</td>\n",
       "      <td>1</td>\n",
       "    </tr>\n",
       "    <tr>\n",
       "      <th>2</th>\n",
       "      <td>5</td>\n",
       "      <td>NaN</td>\n",
       "      <td>NaN</td>\n",
       "      <td>All residents asked to 'shelter in place' are ...</td>\n",
       "      <td>1</td>\n",
       "    </tr>\n",
       "    <tr>\n",
       "      <th>3</th>\n",
       "      <td>6</td>\n",
       "      <td>NaN</td>\n",
       "      <td>NaN</td>\n",
       "      <td>13,000 people receive #wildfires evacuation or...</td>\n",
       "      <td>1</td>\n",
       "    </tr>\n",
       "    <tr>\n",
       "      <th>4</th>\n",
       "      <td>7</td>\n",
       "      <td>NaN</td>\n",
       "      <td>NaN</td>\n",
       "      <td>Just got sent this photo from Ruby #Alaska as ...</td>\n",
       "      <td>1</td>\n",
       "    </tr>\n",
       "    <tr>\n",
       "      <th>5</th>\n",
       "      <td>8</td>\n",
       "      <td>NaN</td>\n",
       "      <td>NaN</td>\n",
       "      <td>#RockyFire Update =&gt; California Hwy. 20 closed...</td>\n",
       "      <td>1</td>\n",
       "    </tr>\n",
       "    <tr>\n",
       "      <th>6</th>\n",
       "      <td>10</td>\n",
       "      <td>NaN</td>\n",
       "      <td>NaN</td>\n",
       "      <td>#flood #disaster Heavy rain causes flash flood...</td>\n",
       "      <td>1</td>\n",
       "    </tr>\n",
       "    <tr>\n",
       "      <th>7</th>\n",
       "      <td>13</td>\n",
       "      <td>NaN</td>\n",
       "      <td>NaN</td>\n",
       "      <td>I'm on top of the hill and I can see a fire in...</td>\n",
       "      <td>1</td>\n",
       "    </tr>\n",
       "    <tr>\n",
       "      <th>8</th>\n",
       "      <td>14</td>\n",
       "      <td>NaN</td>\n",
       "      <td>NaN</td>\n",
       "      <td>There's an emergency evacuation happening now ...</td>\n",
       "      <td>1</td>\n",
       "    </tr>\n",
       "    <tr>\n",
       "      <th>9</th>\n",
       "      <td>15</td>\n",
       "      <td>NaN</td>\n",
       "      <td>NaN</td>\n",
       "      <td>I'm afraid that the tornado is coming to our a...</td>\n",
       "      <td>1</td>\n",
       "    </tr>\n",
       "    <tr>\n",
       "      <th>10</th>\n",
       "      <td>16</td>\n",
       "      <td>NaN</td>\n",
       "      <td>NaN</td>\n",
       "      <td>Three people died from the heat wave so far</td>\n",
       "      <td>1</td>\n",
       "    </tr>\n",
       "    <tr>\n",
       "      <th>11</th>\n",
       "      <td>17</td>\n",
       "      <td>NaN</td>\n",
       "      <td>NaN</td>\n",
       "      <td>Haha South Tampa is getting flooded hah- WAIT ...</td>\n",
       "      <td>1</td>\n",
       "    </tr>\n",
       "    <tr>\n",
       "      <th>12</th>\n",
       "      <td>18</td>\n",
       "      <td>NaN</td>\n",
       "      <td>NaN</td>\n",
       "      <td>#raining #flooding #Florida #TampaBay #Tampa 1...</td>\n",
       "      <td>1</td>\n",
       "    </tr>\n",
       "    <tr>\n",
       "      <th>13</th>\n",
       "      <td>19</td>\n",
       "      <td>NaN</td>\n",
       "      <td>NaN</td>\n",
       "      <td>#Flood in Bago Myanmar #We arrived Bago</td>\n",
       "      <td>1</td>\n",
       "    </tr>\n",
       "    <tr>\n",
       "      <th>14</th>\n",
       "      <td>20</td>\n",
       "      <td>NaN</td>\n",
       "      <td>NaN</td>\n",
       "      <td>Damage to school bus on 80 in multi car crash ...</td>\n",
       "      <td>1</td>\n",
       "    </tr>\n",
       "    <tr>\n",
       "      <th>15</th>\n",
       "      <td>23</td>\n",
       "      <td>NaN</td>\n",
       "      <td>NaN</td>\n",
       "      <td>What's up man?</td>\n",
       "      <td>0</td>\n",
       "    </tr>\n",
       "    <tr>\n",
       "      <th>16</th>\n",
       "      <td>24</td>\n",
       "      <td>NaN</td>\n",
       "      <td>NaN</td>\n",
       "      <td>I love fruits</td>\n",
       "      <td>0</td>\n",
       "    </tr>\n",
       "    <tr>\n",
       "      <th>17</th>\n",
       "      <td>25</td>\n",
       "      <td>NaN</td>\n",
       "      <td>NaN</td>\n",
       "      <td>Summer is lovely</td>\n",
       "      <td>0</td>\n",
       "    </tr>\n",
       "    <tr>\n",
       "      <th>18</th>\n",
       "      <td>26</td>\n",
       "      <td>NaN</td>\n",
       "      <td>NaN</td>\n",
       "      <td>My car is so fast</td>\n",
       "      <td>0</td>\n",
       "    </tr>\n",
       "    <tr>\n",
       "      <th>19</th>\n",
       "      <td>28</td>\n",
       "      <td>NaN</td>\n",
       "      <td>NaN</td>\n",
       "      <td>What a goooooooaaaaaal!!!!!!</td>\n",
       "      <td>0</td>\n",
       "    </tr>\n",
       "  </tbody>\n",
       "</table>\n",
       "</div>"
      ],
      "text/plain": [
       "    id keyword location                                               text  \\\n",
       "0    1     NaN      NaN  Our Deeds are the Reason of this #earthquake M...   \n",
       "1    4     NaN      NaN             Forest fire near La Ronge Sask. Canada   \n",
       "2    5     NaN      NaN  All residents asked to 'shelter in place' are ...   \n",
       "3    6     NaN      NaN  13,000 people receive #wildfires evacuation or...   \n",
       "4    7     NaN      NaN  Just got sent this photo from Ruby #Alaska as ...   \n",
       "5    8     NaN      NaN  #RockyFire Update => California Hwy. 20 closed...   \n",
       "6   10     NaN      NaN  #flood #disaster Heavy rain causes flash flood...   \n",
       "7   13     NaN      NaN  I'm on top of the hill and I can see a fire in...   \n",
       "8   14     NaN      NaN  There's an emergency evacuation happening now ...   \n",
       "9   15     NaN      NaN  I'm afraid that the tornado is coming to our a...   \n",
       "10  16     NaN      NaN        Three people died from the heat wave so far   \n",
       "11  17     NaN      NaN  Haha South Tampa is getting flooded hah- WAIT ...   \n",
       "12  18     NaN      NaN  #raining #flooding #Florida #TampaBay #Tampa 1...   \n",
       "13  19     NaN      NaN            #Flood in Bago Myanmar #We arrived Bago   \n",
       "14  20     NaN      NaN  Damage to school bus on 80 in multi car crash ...   \n",
       "15  23     NaN      NaN                                     What's up man?   \n",
       "16  24     NaN      NaN                                      I love fruits   \n",
       "17  25     NaN      NaN                                   Summer is lovely   \n",
       "18  26     NaN      NaN                                  My car is so fast   \n",
       "19  28     NaN      NaN                       What a goooooooaaaaaal!!!!!!   \n",
       "\n",
       "    target  \n",
       "0        1  \n",
       "1        1  \n",
       "2        1  \n",
       "3        1  \n",
       "4        1  \n",
       "5        1  \n",
       "6        1  \n",
       "7        1  \n",
       "8        1  \n",
       "9        1  \n",
       "10       1  \n",
       "11       1  \n",
       "12       1  \n",
       "13       1  \n",
       "14       1  \n",
       "15       0  \n",
       "16       0  \n",
       "17       0  \n",
       "18       0  \n",
       "19       0  "
      ]
     },
     "execution_count": 4,
     "metadata": {},
     "output_type": "execute_result"
    }
   ],
   "source": [
    "df.head(20)"
   ]
  },
  {
   "cell_type": "code",
   "execution_count": 5,
   "id": "50e1007a",
   "metadata": {
    "execution": {
     "iopub.execute_input": "2022-04-29T18:50:12.828309Z",
     "iopub.status.busy": "2022-04-29T18:50:12.827213Z",
     "iopub.status.idle": "2022-04-29T18:50:12.844425Z",
     "shell.execute_reply": "2022-04-29T18:50:12.843743Z"
    },
    "papermill": {
     "duration": 0.052675,
     "end_time": "2022-04-29T18:50:12.846344",
     "exception": false,
     "start_time": "2022-04-29T18:50:12.793669",
     "status": "completed"
    },
    "tags": []
   },
   "outputs": [],
   "source": [
    "df[\"text\"] = df[\"text\"].apply(lambda x: x.lower())\n",
    "df1[\"text\"] = df1[\"text\"].apply(lambda x: x.lower())"
   ]
  },
  {
   "cell_type": "code",
   "execution_count": 6,
   "id": "5bf2763b",
   "metadata": {
    "execution": {
     "iopub.execute_input": "2022-04-29T18:50:12.920987Z",
     "iopub.status.busy": "2022-04-29T18:50:12.919942Z",
     "iopub.status.idle": "2022-04-29T18:50:12.925179Z",
     "shell.execute_reply": "2022-04-29T18:50:12.924171Z"
    },
    "papermill": {
     "duration": 0.046979,
     "end_time": "2022-04-29T18:50:12.927384",
     "exception": false,
     "start_time": "2022-04-29T18:50:12.880405",
     "status": "completed"
    },
    "tags": []
   },
   "outputs": [],
   "source": [
    "import re"
   ]
  },
  {
   "cell_type": "code",
   "execution_count": 7,
   "id": "8b4fbec4",
   "metadata": {
    "execution": {
     "iopub.execute_input": "2022-04-29T18:50:13.005253Z",
     "iopub.status.busy": "2022-04-29T18:50:13.004920Z",
     "iopub.status.idle": "2022-04-29T18:50:13.066069Z",
     "shell.execute_reply": "2022-04-29T18:50:13.065050Z"
    },
    "papermill": {
     "duration": 0.102467,
     "end_time": "2022-04-29T18:50:13.068876",
     "exception": false,
     "start_time": "2022-04-29T18:50:12.966409",
     "status": "completed"
    },
    "tags": []
   },
   "outputs": [],
   "source": [
    "def remove_URL(text):\n",
    "    return re.sub(r\"https?://\\S+|www\\.\\S+\", \"\", text)\n",
    "\n",
    "df[\"text\"] = df[\"text\"].apply(lambda x: remove_URL(x))\n",
    "df1[\"text\"] = df1[\"text\"].apply(lambda x: remove_URL(x))"
   ]
  },
  {
   "cell_type": "code",
   "execution_count": 8,
   "id": "0f9ea58e",
   "metadata": {
    "execution": {
     "iopub.execute_input": "2022-04-29T18:50:13.141238Z",
     "iopub.status.busy": "2022-04-29T18:50:13.140953Z",
     "iopub.status.idle": "2022-04-29T18:50:13.215802Z",
     "shell.execute_reply": "2022-04-29T18:50:13.214768Z"
    },
    "papermill": {
     "duration": 0.115692,
     "end_time": "2022-04-29T18:50:13.219021",
     "exception": false,
     "start_time": "2022-04-29T18:50:13.103329",
     "status": "completed"
    },
    "tags": []
   },
   "outputs": [],
   "source": [
    "def remove_html(text):\n",
    "    html = re.compile(r\"<.*?>|&([a-z0-9]+|#[0-9]{1,6}|#x[0-9a-f]{1,6});\")\n",
    "    return re.sub(html, \"\", text)\n",
    "\n",
    "df[\"text\"] = df[\"text\"].apply(lambda x: remove_html(x))\n",
    "df1[\"text\"] = df1[\"text\"].apply(lambda x: remove_html(x))"
   ]
  },
  {
   "cell_type": "code",
   "execution_count": 9,
   "id": "a9643166",
   "metadata": {
    "execution": {
     "iopub.execute_input": "2022-04-29T18:50:13.291905Z",
     "iopub.status.busy": "2022-04-29T18:50:13.291188Z",
     "iopub.status.idle": "2022-04-29T18:50:13.295265Z",
     "shell.execute_reply": "2022-04-29T18:50:13.294624Z"
    },
    "papermill": {
     "duration": 0.042308,
     "end_time": "2022-04-29T18:50:13.297459",
     "exception": false,
     "start_time": "2022-04-29T18:50:13.255151",
     "status": "completed"
    },
    "tags": []
   },
   "outputs": [],
   "source": [
    "import string"
   ]
  },
  {
   "cell_type": "code",
   "execution_count": 10,
   "id": "0d259883",
   "metadata": {
    "execution": {
     "iopub.execute_input": "2022-04-29T18:50:13.372081Z",
     "iopub.status.busy": "2022-04-29T18:50:13.371742Z",
     "iopub.status.idle": "2022-04-29T18:50:13.443342Z",
     "shell.execute_reply": "2022-04-29T18:50:13.442142Z"
    },
    "papermill": {
     "duration": 0.111221,
     "end_time": "2022-04-29T18:50:13.446202",
     "exception": false,
     "start_time": "2022-04-29T18:50:13.334981",
     "status": "completed"
    },
    "tags": []
   },
   "outputs": [],
   "source": [
    "def remove_punct(text):\n",
    "    return text.translate(str.maketrans('', '', string.punctuation))\n",
    "\n",
    "\n",
    "df[\"text\"] = df[\"text\"].apply(lambda x: remove_punct(x))\n",
    "df1[\"text\"] = df1[\"text\"].apply(lambda x: remove_punct(x))"
   ]
  },
  {
   "cell_type": "code",
   "execution_count": 11,
   "id": "e4cb3b0e",
   "metadata": {
    "execution": {
     "iopub.execute_input": "2022-04-29T18:50:13.519687Z",
     "iopub.status.busy": "2022-04-29T18:50:13.519363Z",
     "iopub.status.idle": "2022-04-29T18:50:13.532061Z",
     "shell.execute_reply": "2022-04-29T18:50:13.531296Z"
    },
    "papermill": {
     "duration": 0.051272,
     "end_time": "2022-04-29T18:50:13.534397",
     "exception": false,
     "start_time": "2022-04-29T18:50:13.483125",
     "status": "completed"
    },
    "tags": []
   },
   "outputs": [],
   "source": [
    "df = df.drop('keyword', axis=1)\n",
    "df1 = df1.drop('keyword', axis=1)"
   ]
  },
  {
   "cell_type": "code",
   "execution_count": 12,
   "id": "a3fb155d",
   "metadata": {
    "execution": {
     "iopub.execute_input": "2022-04-29T18:50:13.611198Z",
     "iopub.status.busy": "2022-04-29T18:50:13.610196Z",
     "iopub.status.idle": "2022-04-29T18:50:13.618164Z",
     "shell.execute_reply": "2022-04-29T18:50:13.617366Z"
    },
    "papermill": {
     "duration": 0.048548,
     "end_time": "2022-04-29T18:50:13.620898",
     "exception": false,
     "start_time": "2022-04-29T18:50:13.572350",
     "status": "completed"
    },
    "tags": []
   },
   "outputs": [],
   "source": [
    "df = df.drop('location', axis=1)\n",
    "df1 = df1.drop('location', axis=1)"
   ]
  },
  {
   "cell_type": "code",
   "execution_count": 13,
   "id": "e49c2a6f",
   "metadata": {
    "execution": {
     "iopub.execute_input": "2022-04-29T18:50:13.689950Z",
     "iopub.status.busy": "2022-04-29T18:50:13.689630Z",
     "iopub.status.idle": "2022-04-29T18:50:16.669638Z",
     "shell.execute_reply": "2022-04-29T18:50:16.668483Z"
    },
    "papermill": {
     "duration": 3.017107,
     "end_time": "2022-04-29T18:50:16.672128",
     "exception": false,
     "start_time": "2022-04-29T18:50:13.655021",
     "status": "completed"
    },
    "tags": []
   },
   "outputs": [],
   "source": [
    "import nltk\n",
    "from nltk import TweetTokenizer\n",
    "\n",
    "tokenizer = TweetTokenizer()\n",
    "\n",
    "df['tokens'] = [tokenizer.tokenize(item) for item in df.text]\n",
    "df1['tokens'] = [tokenizer.tokenize(item) for item in df1.text]"
   ]
  },
  {
   "cell_type": "code",
   "execution_count": 14,
   "id": "60bcbc16",
   "metadata": {
    "execution": {
     "iopub.execute_input": "2022-04-29T18:50:16.740642Z",
     "iopub.status.busy": "2022-04-29T18:50:16.740081Z",
     "iopub.status.idle": "2022-04-29T18:50:19.862631Z",
     "shell.execute_reply": "2022-04-29T18:50:19.861642Z"
    },
    "papermill": {
     "duration": 3.160269,
     "end_time": "2022-04-29T18:50:19.865233",
     "exception": false,
     "start_time": "2022-04-29T18:50:16.704964",
     "status": "completed"
    },
    "tags": []
   },
   "outputs": [],
   "source": [
    "from nltk.stem import WordNetLemmatizer\n",
    "\n",
    "lemmatizer = WordNetLemmatizer()\n",
    "\n",
    "def lemmatize_item(item):\n",
    "    new_item = []\n",
    "    for x in item:\n",
    "        x = lemmatizer.lemmatize(x)\n",
    "        new_item.append(x)\n",
    "    return \" \".join(new_item)\n",
    "\n",
    "df['tokens'] = [lemmatize_item(item) for item in df.tokens]\n",
    "df1['tokens'] = [lemmatize_item(item) for item in df1.tokens]"
   ]
  },
  {
   "cell_type": "code",
   "execution_count": 15,
   "id": "b7870927",
   "metadata": {
    "execution": {
     "iopub.execute_input": "2022-04-29T18:50:19.932200Z",
     "iopub.status.busy": "2022-04-29T18:50:19.931913Z",
     "iopub.status.idle": "2022-04-29T18:50:20.330246Z",
     "shell.execute_reply": "2022-04-29T18:50:20.329234Z"
    },
    "papermill": {
     "duration": 0.434793,
     "end_time": "2022-04-29T18:50:20.332754",
     "exception": false,
     "start_time": "2022-04-29T18:50:19.897961",
     "status": "completed"
    },
    "tags": []
   },
   "outputs": [],
   "source": [
    "from sklearn.feature_extraction.text import CountVectorizer\n",
    "\n",
    "vectorizer = CountVectorizer()\n",
    "\n",
    "\n",
    "X = vectorizer.fit_transform(df.text).toarray()\n",
    "y = df['target']"
   ]
  },
  {
   "cell_type": "code",
   "execution_count": 16,
   "id": "45648839",
   "metadata": {
    "execution": {
     "iopub.execute_input": "2022-04-29T18:50:20.403807Z",
     "iopub.status.busy": "2022-04-29T18:50:20.403494Z",
     "iopub.status.idle": "2022-04-29T18:50:21.014286Z",
     "shell.execute_reply": "2022-04-29T18:50:21.013368Z"
    },
    "papermill": {
     "duration": 0.650265,
     "end_time": "2022-04-29T18:50:21.016971",
     "exception": false,
     "start_time": "2022-04-29T18:50:20.366706",
     "status": "completed"
    },
    "tags": []
   },
   "outputs": [],
   "source": [
    "from sklearn.model_selection import train_test_split\n",
    "X_train, X_test, y_train, y_test = train_test_split(X, y, test_size = 0.3, random_state = 0)"
   ]
  },
  {
   "cell_type": "code",
   "execution_count": 17,
   "id": "89ba8ead",
   "metadata": {
    "execution": {
     "iopub.execute_input": "2022-04-29T18:50:21.084037Z",
     "iopub.status.busy": "2022-04-29T18:50:21.083483Z",
     "iopub.status.idle": "2022-04-29T18:50:21.090316Z",
     "shell.execute_reply": "2022-04-29T18:50:21.089409Z"
    },
    "papermill": {
     "duration": 0.042672,
     "end_time": "2022-04-29T18:50:21.092768",
     "exception": false,
     "start_time": "2022-04-29T18:50:21.050096",
     "status": "completed"
    },
    "tags": []
   },
   "outputs": [],
   "source": [
    "from sklearn.naive_bayes import MultinomialNB"
   ]
  },
  {
   "cell_type": "code",
   "execution_count": 18,
   "id": "b4305335",
   "metadata": {
    "execution": {
     "iopub.execute_input": "2022-04-29T18:50:21.161979Z",
     "iopub.status.busy": "2022-04-29T18:50:21.161313Z",
     "iopub.status.idle": "2022-04-29T18:50:22.340788Z",
     "shell.execute_reply": "2022-04-29T18:50:22.339595Z"
    },
    "papermill": {
     "duration": 1.218878,
     "end_time": "2022-04-29T18:50:22.343581",
     "exception": false,
     "start_time": "2022-04-29T18:50:21.124703",
     "status": "completed"
    },
    "tags": []
   },
   "outputs": [
    {
     "data": {
      "text/plain": [
       "MultinomialNB()"
      ]
     },
     "execution_count": 18,
     "metadata": {},
     "output_type": "execute_result"
    }
   ],
   "source": [
    "mb = MultinomialNB()\n",
    "mb.fit(X_train,y_train)"
   ]
  },
  {
   "cell_type": "code",
   "execution_count": 19,
   "id": "7ea1aff7",
   "metadata": {
    "execution": {
     "iopub.execute_input": "2022-04-29T18:50:22.418575Z",
     "iopub.status.busy": "2022-04-29T18:50:22.418111Z",
     "iopub.status.idle": "2022-04-29T18:50:22.591578Z",
     "shell.execute_reply": "2022-04-29T18:50:22.590242Z"
    },
    "papermill": {
     "duration": 0.214616,
     "end_time": "2022-04-29T18:50:22.595410",
     "exception": false,
     "start_time": "2022-04-29T18:50:22.380794",
     "status": "completed"
    },
    "tags": []
   },
   "outputs": [],
   "source": [
    "y_pred = mb.predict(X_test)"
   ]
  },
  {
   "cell_type": "code",
   "execution_count": 20,
   "id": "fab8a05c",
   "metadata": {
    "execution": {
     "iopub.execute_input": "2022-04-29T18:50:22.714416Z",
     "iopub.status.busy": "2022-04-29T18:50:22.713464Z",
     "iopub.status.idle": "2022-04-29T18:50:22.718344Z",
     "shell.execute_reply": "2022-04-29T18:50:22.717405Z"
    },
    "papermill": {
     "duration": 0.065131,
     "end_time": "2022-04-29T18:50:22.720725",
     "exception": false,
     "start_time": "2022-04-29T18:50:22.655594",
     "status": "completed"
    },
    "tags": []
   },
   "outputs": [],
   "source": [
    "from sklearn.metrics import accuracy_score, classification_report, confusion_matrix"
   ]
  },
  {
   "cell_type": "code",
   "execution_count": 21,
   "id": "379d3071",
   "metadata": {
    "execution": {
     "iopub.execute_input": "2022-04-29T18:50:22.788968Z",
     "iopub.status.busy": "2022-04-29T18:50:22.788629Z",
     "iopub.status.idle": "2022-04-29T18:50:22.795373Z",
     "shell.execute_reply": "2022-04-29T18:50:22.794012Z"
    },
    "papermill": {
     "duration": 0.043839,
     "end_time": "2022-04-29T18:50:22.797719",
     "exception": false,
     "start_time": "2022-04-29T18:50:22.753880",
     "status": "completed"
    },
    "tags": []
   },
   "outputs": [
    {
     "name": "stdout",
     "output_type": "stream",
     "text": [
      "The accuracy of the model is : 0.8025394045534151\n"
     ]
    }
   ],
   "source": [
    "acc = accuracy_score(y_test,y_pred)\n",
    "print(\"The accuracy of the model is :\",acc)"
   ]
  },
  {
   "cell_type": "code",
   "execution_count": 22,
   "id": "8b5c7b47",
   "metadata": {
    "execution": {
     "iopub.execute_input": "2022-04-29T18:50:22.869449Z",
     "iopub.status.busy": "2022-04-29T18:50:22.868374Z",
     "iopub.status.idle": "2022-04-29T18:50:22.873467Z",
     "shell.execute_reply": "2022-04-29T18:50:22.872771Z"
    },
    "papermill": {
     "duration": 0.041816,
     "end_time": "2022-04-29T18:50:22.875615",
     "exception": false,
     "start_time": "2022-04-29T18:50:22.833799",
     "status": "completed"
    },
    "tags": []
   },
   "outputs": [],
   "source": [
    "from sklearn import svm"
   ]
  },
  {
   "cell_type": "code",
   "execution_count": 23,
   "id": "a72e2d5d",
   "metadata": {
    "execution": {
     "iopub.execute_input": "2022-04-29T18:50:22.944418Z",
     "iopub.status.busy": "2022-04-29T18:50:22.944134Z",
     "iopub.status.idle": "2022-04-29T18:50:22.953453Z",
     "shell.execute_reply": "2022-04-29T18:50:22.952378Z"
    },
    "papermill": {
     "duration": 0.046771,
     "end_time": "2022-04-29T18:50:22.955622",
     "exception": false,
     "start_time": "2022-04-29T18:50:22.908851",
     "status": "completed"
    },
    "tags": []
   },
   "outputs": [
    {
     "data": {
      "text/plain": [
       "array([[1157,  181],\n",
       "       [ 270,  676]])"
      ]
     },
     "execution_count": 23,
     "metadata": {},
     "output_type": "execute_result"
    }
   ],
   "source": [
    "cf = confusion_matrix(y_test,y_pred)\n",
    "cf"
   ]
  },
  {
   "cell_type": "code",
   "execution_count": 24,
   "id": "4a081212",
   "metadata": {
    "execution": {
     "iopub.execute_input": "2022-04-29T18:50:23.026265Z",
     "iopub.status.busy": "2022-04-29T18:50:23.025709Z",
     "iopub.status.idle": "2022-04-29T18:50:23.039134Z",
     "shell.execute_reply": "2022-04-29T18:50:23.037619Z"
    },
    "papermill": {
     "duration": 0.053007,
     "end_time": "2022-04-29T18:50:23.041905",
     "exception": false,
     "start_time": "2022-04-29T18:50:22.988898",
     "status": "completed"
    },
    "tags": []
   },
   "outputs": [
    {
     "name": "stdout",
     "output_type": "stream",
     "text": [
      "              precision    recall  f1-score   support\n",
      "\n",
      "           0       0.81      0.86      0.84      1338\n",
      "           1       0.79      0.71      0.75       946\n",
      "\n",
      "    accuracy                           0.80      2284\n",
      "   macro avg       0.80      0.79      0.79      2284\n",
      "weighted avg       0.80      0.80      0.80      2284\n",
      "\n"
     ]
    }
   ],
   "source": [
    "print(classification_report(y_test,y_pred))"
   ]
  },
  {
   "cell_type": "code",
   "execution_count": 25,
   "id": "5192fc7d",
   "metadata": {
    "execution": {
     "iopub.execute_input": "2022-04-29T18:50:23.113210Z",
     "iopub.status.busy": "2022-04-29T18:50:23.112638Z",
     "iopub.status.idle": "2022-04-29T18:50:23.249551Z",
     "shell.execute_reply": "2022-04-29T18:50:23.248399Z"
    },
    "papermill": {
     "duration": 0.176089,
     "end_time": "2022-04-29T18:50:23.252296",
     "exception": false,
     "start_time": "2022-04-29T18:50:23.076207",
     "status": "completed"
    },
    "tags": []
   },
   "outputs": [],
   "source": [
    "test = vectorizer.transform(df1.text).toarray()"
   ]
  },
  {
   "cell_type": "code",
   "execution_count": 26,
   "id": "0e5d67d4",
   "metadata": {
    "execution": {
     "iopub.execute_input": "2022-04-29T18:50:23.322653Z",
     "iopub.status.busy": "2022-04-29T18:50:23.322336Z",
     "iopub.status.idle": "2022-04-29T18:50:23.610246Z",
     "shell.execute_reply": "2022-04-29T18:50:23.609248Z"
    },
    "papermill": {
     "duration": 0.327971,
     "end_time": "2022-04-29T18:50:23.614035",
     "exception": false,
     "start_time": "2022-04-29T18:50:23.286064",
     "status": "completed"
    },
    "tags": []
   },
   "outputs": [],
   "source": [
    "pred_1 = mb.predict(test)"
   ]
  },
  {
   "cell_type": "code",
   "execution_count": 27,
   "id": "a7ad1085",
   "metadata": {
    "execution": {
     "iopub.execute_input": "2022-04-29T18:50:23.735158Z",
     "iopub.status.busy": "2022-04-29T18:50:23.734843Z",
     "iopub.status.idle": "2022-04-29T18:50:23.747049Z",
     "shell.execute_reply": "2022-04-29T18:50:23.746359Z"
    },
    "papermill": {
     "duration": 0.074016,
     "end_time": "2022-04-29T18:50:23.749432",
     "exception": false,
     "start_time": "2022-04-29T18:50:23.675416",
     "status": "completed"
    },
    "tags": []
   },
   "outputs": [],
   "source": [
    "sub = pd.read_csv(\"/kaggle/input/nlp-getting-started/sample_submission.csv\")"
   ]
  },
  {
   "cell_type": "code",
   "execution_count": 28,
   "id": "d4bf5d89",
   "metadata": {
    "execution": {
     "iopub.execute_input": "2022-04-29T18:50:23.820870Z",
     "iopub.status.busy": "2022-04-29T18:50:23.820396Z",
     "iopub.status.idle": "2022-04-29T18:50:23.829861Z",
     "shell.execute_reply": "2022-04-29T18:50:23.828960Z"
    },
    "papermill": {
     "duration": 0.047712,
     "end_time": "2022-04-29T18:50:23.832312",
     "exception": false,
     "start_time": "2022-04-29T18:50:23.784600",
     "status": "completed"
    },
    "tags": []
   },
   "outputs": [
    {
     "data": {
      "text/html": [
       "<div>\n",
       "<style scoped>\n",
       "    .dataframe tbody tr th:only-of-type {\n",
       "        vertical-align: middle;\n",
       "    }\n",
       "\n",
       "    .dataframe tbody tr th {\n",
       "        vertical-align: top;\n",
       "    }\n",
       "\n",
       "    .dataframe thead th {\n",
       "        text-align: right;\n",
       "    }\n",
       "</style>\n",
       "<table border=\"1\" class=\"dataframe\">\n",
       "  <thead>\n",
       "    <tr style=\"text-align: right;\">\n",
       "      <th></th>\n",
       "      <th>id</th>\n",
       "      <th>target</th>\n",
       "    </tr>\n",
       "  </thead>\n",
       "  <tbody>\n",
       "    <tr>\n",
       "      <th>0</th>\n",
       "      <td>0</td>\n",
       "      <td>0</td>\n",
       "    </tr>\n",
       "    <tr>\n",
       "      <th>1</th>\n",
       "      <td>2</td>\n",
       "      <td>0</td>\n",
       "    </tr>\n",
       "    <tr>\n",
       "      <th>2</th>\n",
       "      <td>3</td>\n",
       "      <td>0</td>\n",
       "    </tr>\n",
       "    <tr>\n",
       "      <th>3</th>\n",
       "      <td>9</td>\n",
       "      <td>0</td>\n",
       "    </tr>\n",
       "    <tr>\n",
       "      <th>4</th>\n",
       "      <td>11</td>\n",
       "      <td>0</td>\n",
       "    </tr>\n",
       "  </tbody>\n",
       "</table>\n",
       "</div>"
      ],
      "text/plain": [
       "   id  target\n",
       "0   0       0\n",
       "1   2       0\n",
       "2   3       0\n",
       "3   9       0\n",
       "4  11       0"
      ]
     },
     "execution_count": 28,
     "metadata": {},
     "output_type": "execute_result"
    }
   ],
   "source": [
    "sub.head()"
   ]
  },
  {
   "cell_type": "code",
   "execution_count": 29,
   "id": "ef4ada33",
   "metadata": {
    "execution": {
     "iopub.execute_input": "2022-04-29T18:50:23.904861Z",
     "iopub.status.busy": "2022-04-29T18:50:23.904253Z",
     "iopub.status.idle": "2022-04-29T18:50:23.918905Z",
     "shell.execute_reply": "2022-04-29T18:50:23.917985Z"
    },
    "papermill": {
     "duration": 0.054493,
     "end_time": "2022-04-29T18:50:23.921561",
     "exception": false,
     "start_time": "2022-04-29T18:50:23.867068",
     "status": "completed"
    },
    "tags": []
   },
   "outputs": [],
   "source": [
    "sub['target'] = pred_1\n",
    "sub.to_csv('submission.csv',index=False)"
   ]
  },
  {
   "cell_type": "code",
   "execution_count": 30,
   "id": "1193b41b",
   "metadata": {
    "execution": {
     "iopub.execute_input": "2022-04-29T18:50:23.994767Z",
     "iopub.status.busy": "2022-04-29T18:50:23.994419Z",
     "iopub.status.idle": "2022-04-29T18:50:24.009333Z",
     "shell.execute_reply": "2022-04-29T18:50:24.008320Z"
    },
    "papermill": {
     "duration": 0.05451,
     "end_time": "2022-04-29T18:50:24.011728",
     "exception": false,
     "start_time": "2022-04-29T18:50:23.957218",
     "status": "completed"
    },
    "tags": []
   },
   "outputs": [
    {
     "data": {
      "text/html": [
       "<div>\n",
       "<style scoped>\n",
       "    .dataframe tbody tr th:only-of-type {\n",
       "        vertical-align: middle;\n",
       "    }\n",
       "\n",
       "    .dataframe tbody tr th {\n",
       "        vertical-align: top;\n",
       "    }\n",
       "\n",
       "    .dataframe thead th {\n",
       "        text-align: right;\n",
       "    }\n",
       "</style>\n",
       "<table border=\"1\" class=\"dataframe\">\n",
       "  <thead>\n",
       "    <tr style=\"text-align: right;\">\n",
       "      <th></th>\n",
       "      <th>id</th>\n",
       "      <th>target</th>\n",
       "    </tr>\n",
       "  </thead>\n",
       "  <tbody>\n",
       "    <tr>\n",
       "      <th>0</th>\n",
       "      <td>0</td>\n",
       "      <td>1</td>\n",
       "    </tr>\n",
       "    <tr>\n",
       "      <th>1</th>\n",
       "      <td>2</td>\n",
       "      <td>0</td>\n",
       "    </tr>\n",
       "    <tr>\n",
       "      <th>2</th>\n",
       "      <td>3</td>\n",
       "      <td>1</td>\n",
       "    </tr>\n",
       "    <tr>\n",
       "      <th>3</th>\n",
       "      <td>9</td>\n",
       "      <td>1</td>\n",
       "    </tr>\n",
       "    <tr>\n",
       "      <th>4</th>\n",
       "      <td>11</td>\n",
       "      <td>1</td>\n",
       "    </tr>\n",
       "    <tr>\n",
       "      <th>...</th>\n",
       "      <td>...</td>\n",
       "      <td>...</td>\n",
       "    </tr>\n",
       "    <tr>\n",
       "      <th>3258</th>\n",
       "      <td>10861</td>\n",
       "      <td>1</td>\n",
       "    </tr>\n",
       "    <tr>\n",
       "      <th>3259</th>\n",
       "      <td>10865</td>\n",
       "      <td>1</td>\n",
       "    </tr>\n",
       "    <tr>\n",
       "      <th>3260</th>\n",
       "      <td>10868</td>\n",
       "      <td>1</td>\n",
       "    </tr>\n",
       "    <tr>\n",
       "      <th>3261</th>\n",
       "      <td>10874</td>\n",
       "      <td>1</td>\n",
       "    </tr>\n",
       "    <tr>\n",
       "      <th>3262</th>\n",
       "      <td>10875</td>\n",
       "      <td>1</td>\n",
       "    </tr>\n",
       "  </tbody>\n",
       "</table>\n",
       "<p>3263 rows × 2 columns</p>\n",
       "</div>"
      ],
      "text/plain": [
       "         id  target\n",
       "0         0       1\n",
       "1         2       0\n",
       "2         3       1\n",
       "3         9       1\n",
       "4        11       1\n",
       "...     ...     ...\n",
       "3258  10861       1\n",
       "3259  10865       1\n",
       "3260  10868       1\n",
       "3261  10874       1\n",
       "3262  10875       1\n",
       "\n",
       "[3263 rows x 2 columns]"
      ]
     },
     "execution_count": 30,
     "metadata": {},
     "output_type": "execute_result"
    }
   ],
   "source": [
    "r =pd.read_csv(\"submission.csv\")\n",
    "r"
   ]
  },
  {
   "cell_type": "code",
   "execution_count": null,
   "id": "6bfe5564",
   "metadata": {
    "papermill": {
     "duration": 0.037147,
     "end_time": "2022-04-29T18:50:24.087165",
     "exception": false,
     "start_time": "2022-04-29T18:50:24.050018",
     "status": "completed"
    },
    "tags": []
   },
   "outputs": [],
   "source": []
  }
 ],
 "metadata": {
  "kernelspec": {
   "display_name": "Python 3",
   "language": "python",
   "name": "python3"
  },
  "language_info": {
   "codemirror_mode": {
    "name": "ipython",
    "version": 3
   },
   "file_extension": ".py",
   "mimetype": "text/x-python",
   "name": "python",
   "nbconvert_exporter": "python",
   "pygments_lexer": "ipython3",
   "version": "3.7.12"
  },
  "papermill": {
   "default_parameters": {},
   "duration": 23.827031,
   "end_time": "2022-04-29T18:50:25.249329",
   "environment_variables": {},
   "exception": null,
   "input_path": "__notebook__.ipynb",
   "output_path": "__notebook__.ipynb",
   "parameters": {},
   "start_time": "2022-04-29T18:50:01.422298",
   "version": "2.3.4"
  }
 },
 "nbformat": 4,
 "nbformat_minor": 5
}
